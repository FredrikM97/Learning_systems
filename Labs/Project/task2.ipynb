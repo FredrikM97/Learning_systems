{
 "cells": [
  {
   "cell_type": "code",
   "execution_count": 1,
   "metadata": {},
   "outputs": [],
   "source": [
    "%run functions.py\n",
    "\n",
    "import numpy as np\n",
    "import pandas as pd\n",
    "from scipy.io import loadmat\n",
    "\n",
    "from sklearn.svm import LinearSVC\n",
    "from sklearn.linear_model import Lasso,ElasticNet\n",
    "from sklearn.svm import SVR\n",
    "from sklearn.neighbors import KNeighborsClassifier\n",
    "from sklearn.svm import SVC\n",
    "from sklearn.neural_network import MLPRegressor"
   ]
  },
  {
   "cell_type": "markdown",
   "metadata": {},
   "source": [
    "# Task 2 - Regression "
   ]
  },
  {
   "cell_type": "markdown",
   "metadata": {},
   "source": [
    "## Load settings"
   ]
  },
  {
   "cell_type": "code",
   "execution_count": 2,
   "metadata": {},
   "outputs": [],
   "source": [
    "pd.set_option('display.max_colwidth',-1)\n",
    "import sys\n",
    "np.set_printoptions(threshold=sys.maxsize)\n",
    "\n",
    "k=10 # Define k for crossvalidation\n",
    "seed = 42 # Seed to use\n",
    "feature_tot = 0 # Total selected features -> Start at 0 before PCA\n",
    "\n",
    "scoring='neg_mean_squared_error' # Scoring method for GridsearchCV\n",
    "score_function = f_regression # Score function for Feature selection\n",
    "\n",
    "\n",
    "np.random.seed(seed) # Define the random seed"
   ]
  },
  {
   "cell_type": "code",
   "execution_count": 3,
   "metadata": {},
   "outputs": [],
   "source": [
    "# GridSearchCV\n",
    "estimators = [\n",
    "    ('clf', 'passthrough'),\n",
    "]\n",
    "param_grid = [\n",
    "    {\n",
    "        'clf':[SVR()],\n",
    "        'clf__C':[0.1,10,100],\n",
    "    },{\n",
    "        'clf':[Lasso(random_state=seed)],\n",
    "        'clf__alpha':[0.1,1.0,2.0,5.0],\n",
    "\n",
    "    },{\n",
    "        'clf':[ElasticNet(random_state=seed)],\n",
    "        'clf__alpha':[0.1,1.0,2.0,5.0],\n",
    "        'clf__max_iter':[100,5000,10000],\n",
    "    },{\n",
    "        'clf':[MLPRegressor()],\n",
    "        'clf__hidden_layer_sizes':[(100,),(50,50,50)],\n",
    "        'clf__activation':['relu'],\n",
    "        'clf__solver':['adam'],\n",
    "        'clf__alpha':[0.0001,0.001,0.1],\n",
    "        'clf__max_iter':[200,100,50,2000],\n",
    "        'clf__early_stopping':[True, False]\n",
    "    }\n",
    "]"
   ]
  },
  {
   "cell_type": "markdown",
   "metadata": {},
   "source": [
    "## Load dataset"
   ]
  },
  {
   "cell_type": "code",
   "execution_count": 4,
   "metadata": {},
   "outputs": [],
   "source": [
    "filename = \"datasets/ChemTrainNew.mat\"\n",
    "\n",
    "mat = loadmat(filename)\n",
    "input_train = mat['XtrainDS']\n",
    "\n",
    "target_train = mat['YtrainDS'].reshape(len(input_train))\n",
    "input_test = mat['XtestDS']\n",
    "\n",
    "\n",
    "input_train = input_train[:,1:]\n",
    "input_test = input_test[:,1:]"
   ]
  },
  {
   "cell_type": "markdown",
   "metadata": {},
   "source": [
    "## Data info"
   ]
  },
  {
   "cell_type": "code",
   "execution_count": 5,
   "metadata": {},
   "outputs": [
    {
     "name": "stdout",
     "output_type": "stream",
     "text": [
      "Length of 4466\n",
      "X.shape: (4466, 64) y.shape: (4466,)\n",
      "Contains Nan: False False\n",
      "Contains +inf: False False\n",
      "Contains -inf: False False\n",
      "Input: [[1.128450e+03 7.962500e+01 3.917250e+02 4.602500e+01 1.418250e+03\n",
      "  1.170000e+03 4.014000e+02 3.272500e+01 1.477500e+03 1.192000e+03\n",
      "  7.017500e+01 3.979125e+02 7.755000e+01 1.838125e+04 8.760000e+01\n",
      "  4.002750e+02 8.368750e+00 8.000000e-02 1.806250e+02 2.045625e+02\n",
      "  3.118000e+01 3.034000e+01 3.517500e+00 1.350000e+01 8.722500e+01\n",
      "  5.042500e+01 5.317500e+01 5.050000e+01 8.922500e+01 5.040000e+01\n",
      "  8.840000e+01 4.072500e+01 7.835000e+01 2.975000e+01 2.430000e+01\n",
      "  7.417500e+01 4.992500e+01 2.000000e-01 2.875000e+00 4.227500e+01\n",
      "  6.019582e+01 2.840000e+02 1.958000e+00 4.310000e+01 6.400000e+01\n",
      "  1.389750e+00 4.935000e+01 5.197500e+01 5.251750e+01 5.026000e+01\n",
      "  5.239500e+01 5.316500e+01 4.821250e+01 7.001250e+01 2.106250e+01\n",
      "  5.552750e+01 3.291750e+01 5.222500e+01 2.842000e+01 5.113500e+01\n",
      "  4.873750e+01 5.071500e+01 4.847500e+01 2.983750e+01]\n",
      " [1.128450e+03 8.042500e+01 3.935250e+02 4.585000e+01 1.360500e+03\n",
      "  1.166875e+03 4.006125e+02 3.322500e+01 1.470000e+03 1.189000e+03\n",
      "  7.017500e+01 3.976875e+02 7.755000e+01 1.831250e+04 8.760000e+01\n",
      "  4.010625e+02 8.362500e+00 8.000000e-02 1.791250e+02 2.006875e+02\n",
      "  3.116000e+01 3.092000e+01 3.510000e+00 1.337500e+01 8.695000e+01\n",
      "  4.985000e+01 5.260000e+01 5.000000e+01 8.925000e+01 4.992500e+01\n",
      "  8.840000e+01 4.132500e+01 7.827500e+01 2.975000e+01 2.527500e+01\n",
      "  7.417500e+01 5.002500e+01 2.000000e-01 2.875000e+00 4.197500e+01\n",
      "  5.964914e+01 2.837500e+02 1.958000e+00 4.387500e+01 6.400000e+01\n",
      "  1.389750e+00 1.235000e+01 5.197500e+01 5.251750e+01 5.026000e+01\n",
      "  5.188750e+01 5.316500e+01 4.821250e+01 7.001250e+01 2.106250e+01\n",
      "  5.552750e+01 3.342500e+01 5.222500e+01 2.842000e+01 5.113500e+01\n",
      "  4.873750e+01 5.071500e+01 4.847500e+01 2.932500e+01]] \n",
      "Target: [14.675 18.65 ]\n"
     ]
    }
   ],
   "source": [
    "get_data_info(input_train, target_train)"
   ]
  },
  {
   "cell_type": "markdown",
   "metadata": {},
   "source": [
    "## Preprocess\n",
    "Normalize the dataset"
   ]
  },
  {
   "cell_type": "code",
   "execution_count": 6,
   "metadata": {},
   "outputs": [
    {
     "name": "stdout",
     "output_type": "stream",
     "text": [
      "4466\n"
     ]
    }
   ],
   "source": [
    "input_train, input_test, target_train, input_train_copy, input_train_copy_normalized = preprocessing(input_train,target_train, input_test)"
   ]
  },
  {
   "cell_type": "markdown",
   "metadata": {},
   "source": [
    "## Feature reduction\n",
    "Reduce dimensionality by PCA transform"
   ]
  },
  {
   "cell_type": "code",
   "execution_count": 7,
   "metadata": {},
   "outputs": [
    {
     "name": "stdout",
     "output_type": "stream",
     "text": [
      "original shape:    (4466, 64)\n",
      "transformed shape: (4466, 27)\n",
      "Explained variance: [0.35441177 0.10266607 0.08168297 0.06419575 0.04078661 0.03237526\n",
      " 0.02810572 0.02543366 0.02006375 0.01845131 0.01694614 0.01636917\n",
      " 0.01491138 0.01382942 0.01316199 0.01296958 0.01199725 0.01115177\n",
      " 0.01076023 0.00977379 0.00960008 0.00898462 0.00881979 0.00757174\n",
      " 0.00678392 0.0063734  0.00541192]\n"
     ]
    }
   ],
   "source": [
    "feature_tot, pca, pca_input = feature_reduction(input_train, target_train,input_train_copy)"
   ]
  },
  {
   "cell_type": "markdown",
   "metadata": {},
   "source": [
    "# Plot PCA"
   ]
  },
  {
   "cell_type": "code",
   "execution_count": 8,
   "metadata": {},
   "outputs": [
    {
     "data": {
      "image/png": "[encoded data removed]",
      "text/plain": [
       "<Figure size 360x360 with 1 Axes>"
      ]
     },
     "metadata": {
      "needs_background": "light"
     },
     "output_type": "display_data"
    }
   ],
   "source": [
    "plot_feature_variance(pca_input)"
   ]
  },
  {
   "cell_type": "markdown",
   "metadata": {},
   "source": [
    "## Plot top 10 histogram over reduced features"
   ]
  },
  {
   "cell_type": "code",
   "execution_count": 9,
   "metadata": {},
   "outputs": [
    {
     "data": {
      "image/png": "[encoded data removed]",
      "text/plain": [
       "<Figure size 1080x720 with 9 Axes>"
      ]
     },
     "metadata": {
      "needs_background": "light"
     },
     "output_type": "display_data"
    }
   ],
   "source": [
    "plot_top_features(feature_tot,pca_input)"
   ]
  },
  {
   "cell_type": "markdown",
   "metadata": {},
   "source": [
    "# Feature selection\n",
    "Extract top features above depending on PCA"
   ]
  },
  {
   "cell_type": "code",
   "execution_count": 10,
   "metadata": {},
   "outputs": [
    {
     "name": "stdout",
     "output_type": "stream",
     "text": [
      "(4466, 64)\n"
     ]
    },
    {
     "data": {
      "image/png": "[encoded data removed]",
      "text/plain": [
       "<Figure size 432x288 with 1 Axes>"
      ]
     },
     "metadata": {
      "needs_background": "light"
     },
     "output_type": "display_data"
    }
   ],
   "source": [
    "input_train_fs, input_test_fs = feature_selection(score_function, input_train, target_train, input_test, feature_tot=feature_tot)"
   ]
  },
  {
   "cell_type": "markdown",
   "metadata": {},
   "source": [
    "## Hyperparameter tuning"
   ]
  },
  {
   "cell_type": "code",
   "execution_count": null,
   "metadata": {},
   "outputs": [
    {
     "name": "stdout",
     "output_type": "stream",
     "text": [
      "Fitting 10 folds for each of 67 candidates, totalling 670 fits\n"
     ]
    },
    {
     "name": "stderr",
     "output_type": "stream",
     "text": [
      "[Parallel(n_jobs=-1)]: Using backend LokyBackend with 4 concurrent workers.\n",
      "[Parallel(n_jobs=-1)]: Done  42 tasks      | elapsed:  1.5min\n"
     ]
    }
   ],
   "source": [
    "# GridSearchCV\n",
    "grid = parameter_tuning(estimators, param_grid, input_train_fs, target_train, scoring=scoring, k=k)\n"
   ]
  },
  {
   "cell_type": "markdown",
   "metadata": {},
   "source": [
    "## Get Model info"
   ]
  },
  {
   "cell_type": "code",
   "execution_count": null,
   "metadata": {},
   "outputs": [],
   "source": [
    "get_model_info(grid)"
   ]
  },
  {
   "cell_type": "code",
   "execution_count": null,
   "metadata": {},
   "outputs": [],
   "source": [
    "validate_curve(grid, input_train_fs, target_train,scoring=scoring, k=k)"
   ]
  },
  {
   "cell_type": "markdown",
   "metadata": {},
   "source": [
    "# Predict testset"
   ]
  },
  {
   "cell_type": "code",
   "execution_count": null,
   "metadata": {},
   "outputs": [],
   "source": [
    "model = predict_model(grid, input_train_fs, target_train, input_test_fs)"
   ]
  }
 ],
 "metadata": {
  "kernelspec": {
   "display_name": "Python 3",
   "language": "python",
   "name": "python3"
  },
  "language_info": {
   "codemirror_mode": {
    "name": "ipython",
    "version": 3
   },
   "file_extension": ".py",
   "mimetype": "text/x-python",
   "name": "python",
   "nbconvert_exporter": "python",
   "pygments_lexer": "ipython3",
   "version": "3.8.1"
  },
  "widgets": {
   "application/vnd.jupyter.widget-state+json": {
    "state": {},
    "version_major": 2,
    "version_minor": 0
   }
  }
 },
 "nbformat": 4,
 "nbformat_minor": 4
}
