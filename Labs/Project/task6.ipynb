{
 "cells": [
  {
   "cell_type": "code",
   "execution_count": 1,
   "metadata": {},
   "outputs": [],
   "source": [
    "%run functions.py\n",
    "\n",
    "import numpy as np\n",
    "import pandas as pd\n",
    "from scipy.io import loadmat\n",
    "\n",
    "from sklearn.svm import LinearSVC\n",
    "from sklearn.linear_model import Lasso,ElasticNet\n",
    "from sklearn.svm import SVR\n",
    "from sklearn.neighbors import KNeighborsClassifier\n",
    "from sklearn.svm import SVC\n",
    "from sklearn.neural_network import MLPClassifier\n",
    "from mlxtend.plotting import plot_decision_regions"
   ]
  },
  {
   "cell_type": "markdown",
   "metadata": {},
   "source": [
    "## Load settings"
   ]
  },
  {
   "cell_type": "code",
   "execution_count": 2,
   "metadata": {},
   "outputs": [],
   "source": [
    "pd.set_option('display.max_colwidth',-1)\n",
    "import sys\n",
    "np.set_printoptions(threshold=sys.maxsize)\n",
    "\n",
    "k=10 # Define k for crossvalidation\n",
    "seed = 42 # Seed to use\n",
    "feature_tot = 0 # Total selected features -> Start at 0 before PCA\n",
    "\n",
    "scoring='accuracy' # Scoring method for GridsearchCV\n",
    "score_function = f_classif # Score function for Feature selection\n",
    "\n",
    "\n",
    "np.random.seed(seed) # Define the random seed"
   ]
  },
  {
   "cell_type": "code",
   "execution_count": 3,
   "metadata": {},
   "outputs": [],
   "source": [
    "# Define models that should be trained\n",
    "estimators = [\n",
    "    ('clf', 'passthrough'),\n",
    "]\n",
    "param_grid = [\n",
    "    {\n",
    "        'clf':[LinearSVC()],\n",
    "        'clf__penalty':['l1','l2'],\n",
    "        'clf__C': [0.1,0.5,1,1.5,2.0],\n",
    "        'clf__dual':[True,False]\n",
    "    },{\n",
    "        'clf':[KNeighborsClassifier()],\n",
    "        'clf__n_neighbors':[5,3,6,8],\n",
    "        'clf__algorithm':['auto', 'ball_tree', 'kd_tree', 'brute'],\n",
    "        'clf__leaf_size':[30,15,20,40]\n",
    "    },{\n",
    "        'clf':[SVC()],\n",
    "        'clf__C':[1,0.5,1,5.2],\n",
    "        'clf__kernel':['linear', 'poly', 'rbf', 'sigmoid'],\n",
    "        'clf__degree':[1,2,3],\n",
    "        'clf__gamma':['scale', 'auto'],\n",
    "        'clf__max_iter':[-1,1000,5000,10000],\n",
    "    },{\n",
    "        'clf':[MLPClassifier()],\n",
    "        'clf__hidden_layer_sizes':[(100,),(100,50),(50,50,50)],\n",
    "        'clf__activation':['relu', 'tanh', 'logistic'],\n",
    "        'clf__solver':['adam','sgd'],\n",
    "        'clf__alpha':[0.0001,0.001,0.1],\n",
    "        'clf__max_iter':[200,100,50,-1],\n",
    "        'clf__early_stopping':[True, False]\n",
    "    }\n",
    "]"
   ]
  },
  {
   "cell_type": "markdown",
   "metadata": {},
   "source": [
    "# Task 6 - Classification "
   ]
  },
  {
   "cell_type": "markdown",
   "metadata": {},
   "source": [
    "## Load dataset"
   ]
  },
  {
   "cell_type": "code",
   "execution_count": 4,
   "metadata": {},
   "outputs": [],
   "source": [
    "filename = \"datasets/ECGITtrain.mat\"\n",
    "\n",
    "mat = loadmat(filename)\n",
    "input_train = mat['inputECGITtrain']\n",
    "\n",
    "target_train = mat['outputECGITtrain'].reshape(len(input_train))\n",
    "input_test = mat['inputECGITtest']"
   ]
  },
  {
   "cell_type": "markdown",
   "metadata": {},
   "source": [
    "## Data info"
   ]
  },
  {
   "cell_type": "code",
   "execution_count": 5,
   "metadata": {},
   "outputs": [
    {
     "name": "stdout",
     "output_type": "stream",
     "text": [
      "Length of 200\n",
      "X.shape: (200, 312) y.shape: (200,)\n",
      "Contains Nan: False False\n",
      "Contains +inf: False False\n",
      "Contains -inf: False False\n",
      "Input: [[ 0.0000000e+00  0.0000000e+00  0.0000000e+00  1.2637258e+00\n",
      "   9.2601681e+00  0.0000000e+00  0.0000000e+00  0.0000000e+00\n",
      "   0.0000000e+00  3.1220163e+00  1.2148618e+00  0.0000000e+00\n",
      "   0.0000000e+00  6.1585301e+01  6.1909145e+01  1.6335660e+01\n",
      "   0.0000000e+00  0.0000000e+00  3.5444985e+01  2.8112628e+01\n",
      "   1.7818724e+01  0.0000000e+00  0.0000000e+00  0.0000000e+00\n",
      "   1.9061192e+01  7.6414699e+01  2.4873216e+01  2.6255317e+01\n",
      "   4.3691186e+01  6.4112370e+01  1.0255501e+02  8.1948815e+01\n",
      "   5.8729296e+01  4.6930479e+01  4.2900319e+01  4.1267905e+01\n",
      "   5.2379063e+01  0.0000000e+00  3.4440635e+01  8.7603284e+01\n",
      "   7.5542706e+01  6.3913070e+01  0.0000000e+00  1.4891966e+01\n",
      "   5.2771863e+01  8.7947505e+01  9.3884819e+01  9.6732095e+01\n",
      "   6.6559745e+01  0.0000000e+00  0.0000000e+00  0.0000000e+00\n",
      "   0.0000000e+00  0.0000000e+00  0.0000000e+00  0.0000000e+00\n",
      "   0.0000000e+00  0.0000000e+00  0.0000000e+00  0.0000000e+00\n",
      "   0.0000000e+00  0.0000000e+00  0.0000000e+00  0.0000000e+00\n",
      "   0.0000000e+00  0.0000000e+00  0.0000000e+00  0.0000000e+00\n",
      "   0.0000000e+00  0.0000000e+00  0.0000000e+00  0.0000000e+00\n",
      "   0.0000000e+00  0.0000000e+00  1.6777004e+01  6.5420138e+00\n",
      "   9.5059397e+00  9.9745603e+00  0.0000000e+00  1.3046591e+01\n",
      "   8.6801172e+00  0.0000000e+00  0.0000000e+00  0.0000000e+00\n",
      "   0.0000000e+00  0.0000000e+00  0.0000000e+00  2.5408054e+00\n",
      "   7.8431360e+00  0.0000000e+00  0.0000000e+00  0.0000000e+00\n",
      "   0.0000000e+00 -5.3329430e+00 -6.6117605e-01  0.0000000e+00\n",
      "   0.0000000e+00 -2.9936782e+02 -1.4384970e+02 -4.7563322e+01\n",
      "   0.0000000e+00  0.0000000e+00 -1.2693230e+02 -8.9343534e+01\n",
      "  -2.2338238e+01  0.0000000e+00  0.0000000e+00  0.0000000e+00\n",
      "   2.5836689e+01  8.1063218e+02  1.2615030e+02  4.1243668e+02\n",
      "   8.0784314e+02  6.0344833e+02  6.5832294e+02  4.9184396e+02\n",
      "   2.9766176e+02  3.5466706e+02  2.5433882e+02  2.3401059e+02\n",
      "  -2.5453044e+02  0.0000000e+00 -1.5384970e+02 -7.5756332e+02\n",
      "  -8.5355343e+02 -7.8711883e+02  0.0000000e+00 -1.1934353e+02\n",
      "  -3.1733824e+02 -7.0533294e+02 -8.3211426e+02 -9.6712580e+02\n",
      "   9.7546956e+02  0.0000000e+00  0.0000000e+00  0.0000000e+00\n",
      "   0.0000000e+00  0.0000000e+00  0.0000000e+00  0.0000000e+00\n",
      "   0.0000000e+00  0.0000000e+00  0.0000000e+00  0.0000000e+00\n",
      "   0.0000000e+00  0.0000000e+00  0.0000000e+00  0.0000000e+00\n",
      "   0.0000000e+00  0.0000000e+00  0.0000000e+00  0.0000000e+00\n",
      "   0.0000000e+00  0.0000000e+00  0.0000000e+00  0.0000000e+00\n",
      "   0.0000000e+00  0.0000000e+00  1.9615030e+02  4.2436678e+01\n",
      "   8.7843136e+01  7.5366709e+01  0.0000000e+00  7.1833284e+01\n",
      "   3.2661762e+01  0.0000000e+00  0.0000000e+00  0.0000000e+00\n",
      "   1.7146957e+02  1.6823452e+02 -2.5559148e+01 -2.5780789e+02\n",
      "  -1.6017315e+02 -8.3969215e+01  2.7269367e+02  1.8402815e+02\n",
      "   3.3485530e+00 -1.7733104e+02 -2.6934512e+02 -3.6135919e+02\n",
      "   1.3900000e+02  1.3900000e+02  1.3900000e+02  1.3900000e+02\n",
      "   1.3900000e+02  1.3900000e+02  1.3900000e+02  1.3900000e+02\n",
      "   1.3900000e+02  1.3900000e+02  1.3900000e+02  1.3900000e+02\n",
      "   2.5830652e+01  3.0096208e+02  2.9647737e+02  1.9311962e+02\n",
      "   1.7818718e+02  1.2338020e+02  6.7034989e+01  8.0921929e+01\n",
      "   7.7962305e+01  7.5036568e+01  3.9685732e+01  4.3687843e+00\n",
      "   5.4695636e+00  1.9063218e+02  1.8615030e+02  4.2030450e+01\n",
      "   9.2830781e+01  7.2424081e+01  3.3085770e+01  6.0379752e+01\n",
      "   3.6195076e+01  3.5701081e+00 -3.0839913e+01 -6.5249935e+01\n",
      "   3.3000000e+01  1.0100000e+02  1.0100000e+02  9.3000000e+01\n",
      "   8.9000000e+01  1.0100000e+02  1.0000000e+00  4.9000000e+01\n",
      "   8.7000000e+01  7.3000000e+01  9.7000000e+01  9.7000000e+01\n",
      "   1.2000000e+01  4.0000000e+00  4.0000000e+00  1.1000000e+01\n",
      "   1.0000000e+00  3.0000000e+00  7.9000000e+01  7.0000000e+00\n",
      "   1.0000000e+00  1.0000000e+00  1.0000000e+00  1.0000000e+00\n",
      "   1.8897553e+01  2.0646644e+02  1.9272277e+02  4.1653444e+01\n",
      "   9.2820550e+01  7.2692997e+01  6.4913251e+01  6.7676967e+01\n",
      "   3.6602199e+01  5.5274316e+00 -2.8311052e+01 -6.2149535e+01\n",
      "   2.5168440e+01  2.4057017e+02  2.3607981e+02  6.5006297e+01\n",
      "   1.2781938e+02  9.6136703e+01  4.3652484e+01  7.0982617e+01\n",
      "   6.2821442e+01  5.4660266e+01  1.9168958e+01 -1.6322351e+01\n",
      "   2.5474657e+01  2.5058082e+02  2.4606496e+02  7.7900036e+01\n",
      "   1.4042046e+02  9.2837033e+01  4.3307426e+01  7.0605084e+01\n",
      "   6.2600200e+01  5.4595316e+01  1.9292774e+01 -1.6009768e+01\n",
      "   2.5474657e+01  2.7026484e+02  2.5904357e+02  1.1269447e+02\n",
      "   1.4816125e+02  9.6978715e+01  4.5077826e+01  7.7413284e+01\n",
      "   7.1042100e+01  6.4670916e+01  2.5964274e+01 -1.2742368e+01\n",
      "   2.5155296e+01  2.8020497e+02  2.7604075e+02  1.4518218e+02\n",
      "   1.6772295e+02  1.0245860e+02  3.6279472e+01  7.3611296e+01\n",
      "   7.4137472e+01  7.4663648e+01  3.7858000e+01  1.0523525e+00\n",
      "   2.5481434e+01  3.0025974e+02  2.9576938e+02  1.8577126e+02\n",
      "   1.7488198e+02  1.2246755e+02  3.3347773e+01  7.0663257e+01\n",
      "   7.2647112e+01  7.4630968e+01  3.9299340e+01  3.9677115e+00]\n",
      " [ 1.4910554e+01  0.0000000e+00  0.0000000e+00  0.0000000e+00\n",
      "   0.0000000e+00  0.0000000e+00  2.3498858e+00  3.4298000e+00\n",
      "   0.0000000e+00  6.7715440e-01  1.4484903e+00  1.9315252e+00\n",
      "   7.5089446e+01  0.0000000e+00  8.8526136e+01  9.0000000e+01\n",
      "   1.4371049e+01  1.4740151e+01  0.0000000e+00  0.0000000e+00\n",
      "   1.5327236e+01  2.3816480e+01  8.8551510e+01  8.6158619e+01\n",
      "   0.0000000e+00  1.8804618e+01  0.0000000e+00  0.0000000e+00\n",
      "   3.6969667e+01  4.0901649e+01  8.1771737e+01  7.8376172e+01\n",
      "   6.0469138e+01  1.4790670e+01  0.0000000e+00  0.0000000e+00\n",
      "   0.0000000e+00  6.9169194e+01  0.0000000e+00  0.0000000e+00\n",
      "   3.8659283e+01  3.4358201e+01  0.0000000e+00  0.0000000e+00\n",
      "   1.4203626e+01  5.0715696e+01  0.0000000e+00  0.0000000e+00\n",
      "   0.0000000e+00  0.0000000e+00  0.0000000e+00  0.0000000e+00\n",
      "   0.0000000e+00  0.0000000e+00  0.0000000e+00  0.0000000e+00\n",
      "   0.0000000e+00  0.0000000e+00  0.0000000e+00  0.0000000e+00\n",
      "   0.0000000e+00  0.0000000e+00  0.0000000e+00  0.0000000e+00\n",
      "   0.0000000e+00  0.0000000e+00  0.0000000e+00  0.0000000e+00\n",
      "   0.0000000e+00  0.0000000e+00  0.0000000e+00  0.0000000e+00\n",
      "   0.0000000e+00  2.0261881e+00  1.4738641e+00  0.0000000e+00\n",
      "   0.0000000e+00  0.0000000e+00  5.8783777e+00  8.1940282e+00\n",
      "   0.0000000e+00  0.0000000e+00  0.0000000e+00  1.9098561e+00\n",
      "  -1.5726928e+01  0.0000000e+00  0.0000000e+00  0.0000000e+00\n",
      "   0.0000000e+00  0.0000000e+00 -1.1705296e+01 -1.2536889e+01\n",
      "   0.0000000e+00  3.4884598e+00  7.4294069e+00  1.1370354e+01\n",
      "  -8.0572693e+02  0.0000000e+00 -1.8416953e+03 -8.8726132e+02\n",
      "  -2.7190587e+01 -2.7184928e+01  0.0000000e+00  0.0000000e+00\n",
      "  -2.2100038e+01 -8.1663186e+01 -9.3381835e+02 -1.6591263e+03\n",
      "   0.0000000e+00  7.1464238e+01  0.0000000e+00  0.0000000e+00\n",
      "   5.1280941e+02  8.2016620e+02  1.6232947e+03  1.5874631e+03\n",
      "   7.6665712e+02  1.0833681e+02  0.0000000e+00  0.0000000e+00\n",
      "   0.0000000e+00 -1.2985358e+03  0.0000000e+00  0.0000000e+00\n",
      "  -4.9719059e+02 -2.6718493e+02  0.0000000e+00  0.0000000e+00\n",
      "  -9.2100038e+01 -4.4166319e+02  0.0000000e+00  0.0000000e+00\n",
      "   0.0000000e+00  0.0000000e+00  0.0000000e+00  0.0000000e+00\n",
      "   0.0000000e+00  0.0000000e+00  0.0000000e+00  0.0000000e+00\n",
      "   0.0000000e+00  0.0000000e+00  0.0000000e+00  0.0000000e+00\n",
      "   0.0000000e+00  0.0000000e+00  0.0000000e+00  0.0000000e+00\n",
      "   0.0000000e+00  0.0000000e+00  0.0000000e+00  0.0000000e+00\n",
      "   0.0000000e+00  0.0000000e+00  0.0000000e+00  0.0000000e+00\n",
      "   0.0000000e+00  1.1464238e+01  8.3046603e+00  0.0000000e+00\n",
      "   0.0000000e+00  0.0000000e+00 -4.1705296e+01 -7.6560130e+01\n",
      "   0.0000000e+00  0.0000000e+00  0.0000000e+00  1.0873703e+01\n",
      "  -3.2197219e+02 -3.9938533e+02 -6.9471632e+02 -2.7447781e+02\n",
      "   1.4818271e+01  1.3891945e+02  5.6591217e+02  5.0241102e+02\n",
      "   1.8770436e+02 -1.2700230e+02 -3.7820781e+02 -6.2941332e+02\n",
      "   9.1000000e+01  9.1000000e+01  9.1000000e+01  9.1000000e+01\n",
      "   9.1000000e+01  9.1000000e+01  9.1000000e+01  9.1000000e+01\n",
      "   9.1000000e+01  9.1000000e+01  9.1000000e+01  9.1000000e+01\n",
      "   8.4273072e+01  4.1464238e+01  1.3830466e+02  3.3339627e+01\n",
      "  -3.7190587e+01 -6.7184928e+01 -4.7120544e+01 -7.5160656e+01\n",
      "  -6.2100038e+01  8.3368138e+00  1.0960526e+02  2.1087370e+02\n",
      "  -1.0254273e+01  1.1464238e+01  1.5445380e+01 -3.9108025e+01\n",
      "  -7.7921187e+01 -1.0843231e+02 -2.0712995e+02 -2.0455986e+02\n",
      "  -1.1273378e+02 -5.6080225e+01 -1.8499897e+01  1.9080432e+01\n",
      "   8.4000000e+01  8.0000000e+00  9.6000000e+01  1.0100000e+02\n",
      "   3.2000000e+01  3.2000000e+01  1.0000000e+00  1.0000000e+00\n",
      "   4.0000000e+00  7.6000000e+01  1.0000000e+02  1.0000000e+02\n",
      "   1.0000000e+00  8.8000000e+01  1.0000000e+00  1.0000000e+00\n",
      "   1.1000000e+01  2.7000000e+01  1.0100000e+02  1.0100000e+02\n",
      "   8.9000000e+01  1.0000000e+00  1.0000000e+00  1.0000000e+00\n",
      "  -1.1079074e+01  1.5471209e+01  1.1305035e+01 -4.0211230e+01\n",
      "  -7.8220077e+01 -1.0750767e+02 -4.6467165e+01 -7.5216430e+01\n",
      "  -6.6357480e+01 -5.7498530e+01 -1.9890315e+01  1.7717900e+01\n",
      "   2.1277524e+01  3.1814622e+01  6.7979346e+01  1.2481255e+01\n",
      "  -6.6855894e+01 -9.2756076e+01 -1.1312092e+02 -1.2543308e+02\n",
      "  -7.5028705e+01 -2.4624329e+01  3.8092212e+01  1.0080875e+02\n",
      "   3.7594055e+01  2.1784050e+01  8.1199634e+01  1.8741722e+01\n",
      "  -6.3888319e+01 -9.0642861e+01 -1.3870454e+02 -1.5282601e+02\n",
      "  -9.0534479e+01 -2.8242948e+01  4.8170056e+01  1.2458306e+02\n",
      "   4.7895875e+01  2.1445564e+01  9.5274668e+01  1.9819020e+01\n",
      "  -6.9829015e+01 -9.2800283e+01 -1.6513585e+02 -1.7545766e+02\n",
      "  -9.8050634e+01 -2.0643609e+01  6.7085220e+01  1.5481405e+02\n",
      "   7.7301381e+01  2.4477268e+01  1.2093802e+02  2.5817477e+01\n",
      "  -5.8253043e+01 -7.7695858e+01 -1.7323833e+02 -1.7539191e+02\n",
      "  -8.9849535e+01 -4.3071563e+00  8.3388800e+01  1.7108476e+02\n",
      "   7.4153332e+01  2.4687061e+01  1.3144556e+02  3.2432446e+01\n",
      "  -6.6848706e+01 -1.0010537e+02 -2.0636659e+02 -2.0550316e+02\n",
      "  -1.0188816e+02  1.7268525e+00  1.0447843e+02  2.0723002e+02]] \n",
      "Target: [1 0]\n"
     ]
    }
   ],
   "source": [
    "get_data_info(input_train, target_train)"
   ]
  },
  {
   "cell_type": "markdown",
   "metadata": {},
   "source": [
    "## Preprocess\n",
    "Normalize the dataset"
   ]
  },
  {
   "cell_type": "code",
   "execution_count": 6,
   "metadata": {},
   "outputs": [
    {
     "name": "stdout",
     "output_type": "stream",
     "text": [
      "200\n"
     ]
    }
   ],
   "source": [
    "input_train, input_test, target_train, input_train_copy, input_train_copy_normalized = preprocessing(input_train,target_train, input_test)"
   ]
  },
  {
   "cell_type": "markdown",
   "metadata": {},
   "source": [
    "## Feature reduction\n",
    "Reduce dimensionality by PCA transform"
   ]
  },
  {
   "cell_type": "code",
   "execution_count": 7,
   "metadata": {},
   "outputs": [
    {
     "name": "stdout",
     "output_type": "stream",
     "text": [
      "original shape:    (200, 312)\n",
      "transformed shape: (200, 68)\n",
      "Explained variance: [0.13689165 0.10947223 0.08835791 0.05714188 0.03852058 0.03348119\n",
      " 0.02998714 0.02927492 0.02559136 0.02323128 0.02056029 0.01891973\n",
      " 0.01810861 0.01627311 0.01578273 0.01518965 0.01288996 0.01232019\n",
      " 0.01165783 0.01106354 0.01025566 0.01020286 0.00963132 0.00899118\n",
      " 0.00888426 0.00835079 0.00780978 0.00768602 0.00738474 0.00729493\n",
      " 0.00691865 0.00648512 0.0063632  0.00611334 0.0060643  0.00559347\n",
      " 0.00536385 0.00515121 0.00511318 0.00485909 0.00444808 0.00431979\n",
      " 0.00426217 0.0040189  0.00380549 0.00361753 0.00353812 0.00350734\n",
      " 0.00327855 0.00316379 0.00309998 0.00306435 0.00289113 0.00285685\n",
      " 0.00281515 0.00262383 0.00255781 0.00252214 0.00235482 0.00228139\n",
      " 0.00223909 0.00213703 0.00210408 0.00206141 0.00195353 0.00191249\n",
      " 0.00182698 0.00179275]\n"
     ]
    }
   ],
   "source": [
    "feature_tot, pca, pca_input = feature_reduction(input_train, target_train,input_train_copy)"
   ]
  },
  {
   "cell_type": "markdown",
   "metadata": {},
   "source": [
    "# Plot PCA"
   ]
  },
  {
   "cell_type": "code",
   "execution_count": 8,
   "metadata": {},
   "outputs": [
    {
     "data": {
      "image/png": "[encoded data removed]",
      "text/plain": [
       "<Figure size 360x360 with 1 Axes>"
      ]
     },
     "metadata": {
      "needs_background": "light"
     },
     "output_type": "display_data"
    }
   ],
   "source": [
    "plot_feature_variance(pca_input)"
   ]
  },
  {
   "cell_type": "markdown",
   "metadata": {},
   "source": [
    "## Plot top 10 histogram over reduced features"
   ]
  },
  {
   "cell_type": "code",
   "execution_count": 9,
   "metadata": {},
   "outputs": [
    {
     "data": {
      "image/png": "[encoded data removed]",
      "text/plain": [
       "<Figure size 1080x720 with 9 Axes>"
      ]
     },
     "metadata": {
      "needs_background": "light"
     },
     "output_type": "display_data"
    }
   ],
   "source": [
    "plot_top_features(feature_tot,pca_input)"
   ]
  },
  {
   "cell_type": "markdown",
   "metadata": {},
   "source": [
    "# Feature selection\n",
    "Extract top features above depending on PCA"
   ]
  },
  {
   "cell_type": "code",
   "execution_count": 10,
   "metadata": {},
   "outputs": [
    {
     "name": "stdout",
     "output_type": "stream",
     "text": [
      "(200, 312)\n"
     ]
    },
    {
     "data": {
      "image/png": "[encoded data removed]",
      "text/plain": [
       "<Figure size 432x288 with 1 Axes>"
      ]
     },
     "metadata": {
      "needs_background": "light"
     },
     "output_type": "display_data"
    }
   ],
   "source": [
    "input_train_fs, input_test_fs = feature_selection(score_function, input_train, target_train, input_test, feature_tot=feature_tot)"
   ]
  },
  {
   "cell_type": "markdown",
   "metadata": {},
   "source": [
    "## Hyperparameter tuning"
   ]
  },
  {
   "cell_type": "code",
   "execution_count": null,
   "metadata": {},
   "outputs": [
    {
     "name": "stdout",
     "output_type": "stream",
     "text": [
      "Fitting 10 folds for each of 900 candidates, totalling 9000 fits\n"
     ]
    },
    {
     "name": "stderr",
     "output_type": "stream",
     "text": [
      "[Parallel(n_jobs=-1)]: Using backend LokyBackend with 4 concurrent workers.\n",
      "[Parallel(n_jobs=-1)]: Done  48 tasks      | elapsed:    3.9s\n",
      "[Parallel(n_jobs=-1)]: Done 644 tasks      | elapsed:   15.9s\n",
      "[Parallel(n_jobs=-1)]: Done 1644 tasks      | elapsed:   29.8s\n",
      "[Parallel(n_jobs=-1)]: Done 4252 tasks      | elapsed: 19.0min\n"
     ]
    }
   ],
   "source": [
    "# GridSearchCV\n",
    "grid = parameter_tuning(estimators, param_grid, input_train_fs, target_train, scoring=scoring, k=k)\n"
   ]
  },
  {
   "cell_type": "markdown",
   "metadata": {},
   "source": [
    "## Get Model info"
   ]
  },
  {
   "cell_type": "code",
   "execution_count": null,
   "metadata": {},
   "outputs": [],
   "source": [
    "get_model_info(grid)"
   ]
  },
  {
   "cell_type": "code",
   "execution_count": null,
   "metadata": {},
   "outputs": [],
   "source": [
    "#fig = plot_decision_regions(X=input_train_fs, y=target_train, clf=grid.best_params_['clf'], legend=2)\n",
    "\n",
    "validate_curve(grid, input_train_fs, target_train,scoring=scoring, k=k)"
   ]
  },
  {
   "cell_type": "markdown",
   "metadata": {},
   "source": [
    "# Predict testset"
   ]
  },
  {
   "cell_type": "code",
   "execution_count": null,
   "metadata": {},
   "outputs": [],
   "source": [
    "model = predict_model(grid, input_train_fs, target_train, input_test_fs)"
   ]
  },
  {
   "cell_type": "code",
   "execution_count": null,
   "metadata": {},
   "outputs": [],
   "source": []
  }
 ],
 "metadata": {
  "kernelspec": {
   "display_name": "Python 3",
   "language": "python",
   "name": "python3"
  },
  "language_info": {
   "codemirror_mode": {
    "name": "ipython",
    "version": 3
   },
   "file_extension": ".py",
   "mimetype": "text/x-python",
   "name": "python",
   "nbconvert_exporter": "python",
   "pygments_lexer": "ipython3",
   "version": "3.8.1"
  },
  "widgets": {
   "application/vnd.jupyter.widget-state+json": {
    "state": {},
    "version_major": 2,
    "version_minor": 0
   }
  }
 },
 "nbformat": 4,
 "nbformat_minor": 4
}
