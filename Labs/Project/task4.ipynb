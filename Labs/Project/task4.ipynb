{
 "cells": [
  {
   "cell_type": "code",
   "execution_count": 1,
   "metadata": {},
   "outputs": [],
   "source": [
    "%run functions.py\n",
    "\n",
    "import numpy as np\n",
    "import pandas as pd\n",
    "from scipy.io import loadmat\n",
    "\n",
    "from sklearn.svm import LinearSVC\n",
    "from sklearn.linear_model import Lasso,ElasticNet\n",
    "from sklearn.svm import SVR\n",
    "from sklearn.neighbors import KNeighborsClassifier\n",
    "from sklearn.svm import SVC\n",
    "from sklearn.neural_network import MLPClassifier"
   ]
  },
  {
   "cell_type": "markdown",
   "metadata": {},
   "source": [
    "# Task 4 - Classification "
   ]
  },
  {
   "cell_type": "markdown",
   "metadata": {},
   "source": [
    "## Load settings"
   ]
  },
  {
   "cell_type": "code",
   "execution_count": 2,
   "metadata": {},
   "outputs": [],
   "source": [
    "pd.set_option('display.max_colwidth',-1)\n",
    "import sys\n",
    "np.set_printoptions(threshold=sys.maxsize)\n",
    "\n",
    "k=10 # Define k for crossvalidation\n",
    "seed = 42 # Seed to use\n",
    "feature_tot = 0 # Total selected features -> Start at 0 before PCA\n",
    "\n",
    "scoring='accuracy' # Scoring method for GridsearchCV\n",
    "score_function = f_classif # Score function for Feature selection\n",
    "verbose=10\n",
    "\n",
    "np.random.seed(seed) # Define the random seed"
   ]
  },
  {
   "cell_type": "code",
   "execution_count": 3,
   "metadata": {},
   "outputs": [],
   "source": [
    "# Define models that should be trained\n",
    "estimators = [\n",
    "    ('clf', 'passthrough'),\n",
    "]\n",
    "param_grid = [\n",
    "    {\n",
    "        'clf':[LinearSVC()],\n",
    "        'clf__penalty':['l1','l2'],\n",
    "        'clf__C': [0.1,0.5,1,1.5,2.0],\n",
    "        'clf__dual':[True,False]\n",
    "    },{\n",
    "        'clf':[KNeighborsClassifier()],\n",
    "        'clf__n_neighbors':[5,3,6,8],\n",
    "        'clf__algorithm':['auto', 'ball_tree', 'kd_tree', 'brute'],\n",
    "        'clf__leaf_size':[30,15,20,40]\n",
    "    },{\n",
    "        'clf':[SVC()],\n",
    "        'clf__C':[1,0.5,1,5.2],\n",
    "        'clf__kernel':['linear', 'poly', 'rbf', 'sigmoid'],\n",
    "        'clf__degree':[1,2,3],\n",
    "        'clf__gamma':['scale', 'auto'],\n",
    "        'clf__max_iter':[-1,1000,5000,10000],\n",
    "    },{\n",
    "        'clf':[MLPClassifier()],\n",
    "        'clf__hidden_layer_sizes':[(100,50)],\n",
    "        'clf__activation':['relu', 'tanh', 'logistic'],\n",
    "        'clf__solver':['adam','sgd'],\n",
    "        'clf__alpha':[0.0001,0.001,0.1],\n",
    "        'clf__max_iter':[200,100,50,-1],\n",
    "        'clf__early_stopping':[True, False]\n",
    "    }\n",
    "]"
   ]
  },
  {
   "cell_type": "markdown",
   "metadata": {},
   "source": [
    "## Load dataset"
   ]
  },
  {
   "cell_type": "code",
   "execution_count": 4,
   "metadata": {},
   "outputs": [],
   "source": [
    "filename = \"datasets/thyroidTrain.mat\"\n",
    "\n",
    "mat = loadmat(filename)\n",
    "input_train = mat['trainThyroidInput']\n",
    "\n",
    "target_train = mat['trainThyroidOutput']\n",
    "input_test = mat['testThyroidInput']"
   ]
  },
  {
   "cell_type": "markdown",
   "metadata": {},
   "source": [
    "## Data info"
   ]
  },
  {
   "cell_type": "code",
   "execution_count": 5,
   "metadata": {},
   "outputs": [
    {
     "name": "stdout",
     "output_type": "stream",
     "text": [
      "Length of 5000\n",
      "X.shape: (5000, 21) y.shape: (5000, 3)\n",
      "Contains Nan: False False\n",
      "Contains +inf: False False\n",
      "Contains -inf: False False\n",
      "Input: [[2.8000e-01 0.0000e+00 1.0000e+00 0.0000e+00 0.0000e+00 0.0000e+00\n",
      "  1.0000e+00 0.0000e+00 0.0000e+00 0.0000e+00 0.0000e+00 0.0000e+00\n",
      "  0.0000e+00 0.0000e+00 0.0000e+00 0.0000e+00 2.5000e-03 2.6000e-02\n",
      "  1.7900e-01 1.5500e-01 1.1500e-01]\n",
      " [4.5000e-01 0.0000e+00 0.0000e+00 0.0000e+00 0.0000e+00 0.0000e+00\n",
      "  0.0000e+00 0.0000e+00 0.0000e+00 0.0000e+00 0.0000e+00 0.0000e+00\n",
      "  0.0000e+00 0.0000e+00 0.0000e+00 0.0000e+00 2.0000e-05 1.4000e-02\n",
      "  1.4400e-01 9.9000e-02 1.4516e-01]] \n",
      "Target: [[0 0 1]\n",
      " [0 0 1]]\n"
     ]
    }
   ],
   "source": [
    "get_data_info(input_train, target_train)"
   ]
  },
  {
   "cell_type": "markdown",
   "metadata": {},
   "source": [
    "## Preprocess\n",
    "Normalize the dataset"
   ]
  },
  {
   "cell_type": "code",
   "execution_count": 6,
   "metadata": {},
   "outputs": [
    {
     "name": "stdout",
     "output_type": "stream",
     "text": [
      "One hot --> single value output\n",
      "5000\n"
     ]
    }
   ],
   "source": [
    "input_train, input_test, target_train, input_train_copy, input_train_copy_normalized = preprocessing(input_train,target_train, input_test)"
   ]
  },
  {
   "cell_type": "markdown",
   "metadata": {},
   "source": [
    "## Feature reduction\n",
    "Reduce dimensionality by PCA transform"
   ]
  },
  {
   "cell_type": "code",
   "execution_count": 7,
   "metadata": {},
   "outputs": [
    {
     "name": "stdout",
     "output_type": "stream",
     "text": [
      "original shape:    (5000, 21)\n",
      "transformed shape: (5000, 19)\n",
      "Explained variance: [0.11644462 0.07693855 0.06624585 0.05484826 0.05400037 0.05290859\n",
      " 0.04951334 0.04840626 0.04679861 0.04582658 0.04538423 0.04431255\n",
      " 0.04244733 0.04194532 0.04107869 0.04019269 0.03850317 0.03597675\n",
      " 0.03242482]\n"
     ]
    }
   ],
   "source": [
    "feature_tot, pca, pca_input = feature_reduction(input_train, target_train,input_train_copy)"
   ]
  },
  {
   "cell_type": "markdown",
   "metadata": {},
   "source": [
    "# Plot PCA"
   ]
  },
  {
   "cell_type": "code",
   "execution_count": 8,
   "metadata": {},
   "outputs": [
    {
     "data": {
      "image/png": "[encoded data removed]",
      "text/plain": [
       "<Figure size 360x360 with 1 Axes>"
      ]
     },
     "metadata": {
      "needs_background": "light"
     },
     "output_type": "display_data"
    }
   ],
   "source": [
    "plot_feature_variance(pca_input)"
   ]
  },
  {
   "cell_type": "markdown",
   "metadata": {},
   "source": [
    "## Plot top 10 histogram over reduced features"
   ]
  },
  {
   "cell_type": "code",
   "execution_count": 9,
   "metadata": {},
   "outputs": [
    {
     "data": {
      "image/png": "[encoded data removed]",
      "text/plain": [
       "<Figure size 1080x720 with 9 Axes>"
      ]
     },
     "metadata": {
      "needs_background": "light"
     },
     "output_type": "display_data"
    }
   ],
   "source": [
    "plot_top_features(feature_tot,pca_input)"
   ]
  },
  {
   "cell_type": "markdown",
   "metadata": {},
   "source": [
    "# Feature selection\n",
    "Extract top features above depending on PCA"
   ]
  },
  {
   "cell_type": "code",
   "execution_count": 10,
   "metadata": {},
   "outputs": [
    {
     "name": "stdout",
     "output_type": "stream",
     "text": [
      "(5000, 21)\n"
     ]
    },
    {
     "data": {
      "image/png": "[encoded data removed]",
      "text/plain": [
       "<Figure size 432x288 with 1 Axes>"
      ]
     },
     "metadata": {
      "needs_background": "light"
     },
     "output_type": "display_data"
    }
   ],
   "source": [
    "input_train_fs, input_test_fs = feature_selection(score_function, input_train, target_train, input_test, feature_tot=feature_tot)"
   ]
  },
  {
   "cell_type": "markdown",
   "metadata": {},
   "source": [
    "## Hyperparameter tuning"
   ]
  },
  {
   "cell_type": "code",
   "execution_count": null,
   "metadata": {},
   "outputs": [
    {
     "name": "stdout",
     "output_type": "stream",
     "text": [
      "Fitting 10 folds for each of 612 candidates, totalling 6120 fits\n"
     ]
    },
    {
     "name": "stderr",
     "output_type": "stream",
     "text": [
      "[Parallel(n_jobs=-1)]: Using backend LokyBackend with 4 concurrent workers.\n",
      "[Parallel(n_jobs=-1)]: Done  42 tasks      | elapsed:   13.8s\n",
      "[Parallel(n_jobs=-1)]: Done 192 tasks      | elapsed: 19.6min\n"
     ]
    }
   ],
   "source": [
    "# GridSearchCV\n",
    "grid = parameter_tuning(estimators, param_grid, input_train_fs, target_train, scoring=scoring, k=k)\n"
   ]
  },
  {
   "cell_type": "code",
   "execution_count": null,
   "metadata": {},
   "outputs": [],
   "source": []
  },
  {
   "cell_type": "markdown",
   "metadata": {},
   "source": [
    "## Get Model info"
   ]
  },
  {
   "cell_type": "code",
   "execution_count": null,
   "metadata": {},
   "outputs": [],
   "source": [
    "get_model_info(grid)"
   ]
  },
  {
   "cell_type": "code",
   "execution_count": null,
   "metadata": {},
   "outputs": [],
   "source": [
    "validate_curve(grid, input_train_fs, target_train,scoring=scoring, k=k)"
   ]
  },
  {
   "cell_type": "markdown",
   "metadata": {},
   "source": [
    "# Predict testset"
   ]
  },
  {
   "cell_type": "code",
   "execution_count": null,
   "metadata": {},
   "outputs": [],
   "source": [
    "model = predict_model(grid, input_train_fs, target_train, input_test_fs)"
   ]
  }
 ],
 "metadata": {
  "kernelspec": {
   "display_name": "Python 3",
   "language": "python",
   "name": "python3"
  },
  "language_info": {
   "codemirror_mode": {
    "name": "ipython",
    "version": 3
   },
   "file_extension": ".py",
   "mimetype": "text/x-python",
   "name": "python",
   "nbconvert_exporter": "python",
   "pygments_lexer": "ipython3",
   "version": "3.8.1"
  },
  "widgets": {
   "application/vnd.jupyter.widget-state+json": {
    "state": {},
    "version_major": 2,
    "version_minor": 0
   }
  }
 },
 "nbformat": 4,
 "nbformat_minor": 4
}
