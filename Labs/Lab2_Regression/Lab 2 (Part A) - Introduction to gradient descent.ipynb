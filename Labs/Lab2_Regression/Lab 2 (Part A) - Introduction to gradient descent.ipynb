{
 "cells": [
  {
   "cell_type": "markdown",
   "metadata": {
    "deletable": false
   },
   "source": [
    "# Lab 2 (Part A) - Introduction to gradient descent\n",
    "\n",
    "This is a step by step introduction to the gradient descent algorithm. Before stating, make sure that you read the slides of lectures 2.1 and 2.2.\n",
    "\n",
    "\n",
    "<div class=\"alert alert-block alert-danger\">\n",
    "\n",
    "__IMPORTANT__ \n",
    "Please complete this Jupyter Notebook file and upload it to blackboard __before 05 February 2020__.\n",
    "</div>\n",
    "\n",
    "\n",
    "First, please select the Python code cell below and run it to initialize some plots. You DO NOT have to understand the code in this cell."
   ]
  },
  {
   "cell_type": "code",
   "execution_count": 2,
   "metadata": {
    "deletable": false
   },
   "outputs": [],
   "source": [
    "## Always run this cell before anything else. DO NOT modify this code.\n",
    "#%matplotlib notebook\n",
    "#%matplotlib inline\n",
    "\n",
    "import sys\n",
    "sys.path.insert(0, 'labutils/')\n",
    "\n",
    "from lab2utils import lab2partA1, lab2partA2\n",
    "lab2A1, lab2A2 = lab2partA1(), lab2partA2()"
   ]
  },
  {
   "cell_type": "markdown",
   "metadata": {
    "deletable": false,
    "editable": false
   },
   "source": [
    "# 1. Minimizing a function of one parameter with gradient descent\n",
    "\n",
    "In this section, you are given a function $F(a) = (a + 5)^2$ of one parameter $a$ (a scalar value). The goal is to minimize the function $F$ using the gradient descent algorithm.\n",
    "\n",
    "You are asked to read and complete the Python code below to perform gradient descent (read carefully the code, the comments, and the *TODO* comments in red). The function `dF(a)` that you should complete corresponds to $\\frac{\\partial F(a)}{\\partial a}$, i.e., the derivative of the function $F(a)$ with respect to the parameter $a$.\n",
    "\n",
    "If your implementation of gradient descent is correct and the value of $\\alpha$ is correctly choosen, then the value of $a$ should approach $-5$ and the value of $F(a)$ should approach $0$. This is because the minimum of the function $F(a)$ is $0$ when $a = -5$.\n",
    "\n",
    "Once your code works well, you can re-run it with different values of the learning rate $\\alpha$ and see the difference in terms of the number of iterations it takes until convergence. For example, you can try the following values for $\\alpha$: 0.01, 0.3, and 0.9. Please note that if your learning rate $\\alpha$ is too large (e.g. $\\alpha = 1.5$ for this example), then $F(a)$ can **diverge** and *blow up*, resulting in values which are too large for computer calculations. If your value of $F(a)$ increases or even blows up, stop the execution, adjust your learning rate and try again.\n",
    "\n",
    "You can also re-run the code with a different initial value for the parameter $a$. For example, you can try an initial value of $a = 0$ or $a = -15$."
   ]
  },
  {
   "cell_type": "code",
   "execution_count": 4,
   "metadata": {
    "deletable": false
   },
   "outputs": [
    {
     "name": "stdout",
     "output_type": "stream",
     "text": [
      "51.84\n",
      "33.1776\n",
      "21.233663999999997\n",
      "13.589544960000005\n",
      "8.697308774399998\n",
      "5.566277615616\n",
      "3.562417673994238\n",
      "2.279947311356314\n",
      "1.4591662792680409\n",
      "0.9338664187315451\n",
      "0.5976745079881896\n",
      "0.3825116851124415\n",
      "0.24480747847196233\n",
      "0.15667678622205627\n",
      "0.1002731431821153\n",
      "0.06417481163655399\n",
      "0.041071879447394766\n",
      "0.026286002846332562\n",
      "0.016823041821652833\n",
      "0.010766746765857767\n",
      "0.00689071793014902\n",
      "0.0044100594752953404\n",
      "0.0028224380641890742\n",
      "0.0018063603610809827\n",
      "0.0011560706310918129\n",
      "0.0007398852038987633\n",
      "0.0004735265304952421\n",
      "0.00030305697951693426\n",
      "0.0001939564668908512\n",
      "0.00012413213881012097\n",
      "7.944456883849643e-05\n"
     ]
    },
    {
     "data": {
      "image/png": "[encoded data removed]",
      "text/plain": [
       "<Figure size 432x288 with 1 Axes>"
      ]
     },
     "metadata": {
      "needs_background": "light"
     },
     "output_type": "display_data"
    }
   ],
   "source": [
    "import numpy as np\n",
    "\n",
    "# DO NOT modify the definition of the function F(a)\n",
    "def F(a):\n",
    "    return (a + 5)**2\n",
    "\n",
    "\n",
    "\"\"\" TODO:\n",
    "Write here the definition of the function `dF(a)`, which is\n",
    "the derivative of `F(a)` with respect to the parameter `a`\n",
    "\"\"\"\n",
    "def dF(a):\n",
    "    return 2*(a+5)\n",
    "\n",
    "\n",
    "alpha = 0.1            # The learning rate of gradient descent\n",
    "a = 7                  # The initial value of a (any initial value is ok)\n",
    "max_iterations = 100   # Maximum number of iterations to perform\n",
    "epsilon = 0.0001       # Some small number to test for convergence (i.e. to stop if F(a) does not decrease too much)\n",
    "dF(5)\n",
    "\n",
    "for itr in range(max_iterations):\n",
    "    lab2A1.plot(itr, F, a) # This plots an animation (DO NOT modify this line)\n",
    "    prev = F(a) # Save the value of F(a)\n",
    "    \n",
    "    \n",
    "    \"\"\" TODO:\n",
    "    Write here the gradient descent step to update the value  of the parameter a.\n",
    "    Hint: You need to use `alpha` and `dF(a)`.\n",
    "    \"\"\"\n",
    "    ...\n",
    "    prev = F(a)\n",
    "    a = a - alpha*dF(a)\n",
    "    \n",
    "    \n",
    "    \"\"\" TODO:\n",
    "    Replace the boolean variable `CONDITION` below with a condition to break-out\n",
    "    of the loop if we are close to convergence. Hint: You need to use `prev` (the \n",
    "    previous value of F(a)), the current value of `F(a)` (after a has been updated), and `epsilon`.\n",
    "    \"\"\"\n",
    "    CONDITION = prev - F(a) <= epsilon # Replace True with a boolean condition\n",
    "    print(prev-F(a))\n",
    "    if CONDITION:\n",
    "        break\n"
   ]
  },
  {
   "cell_type": "markdown",
   "metadata": {
    "deletable": false,
    "editable": false
   },
   "source": [
    "# 2. Minimizing a function of two parameters with gradient descent\n",
    "\n",
    "In this section, you are given a function $F(a, b) = 5 + a^2 + \\frac{3}{2} b^2 + a b~$ of two parameters $a$ and $b$ (scalar values). The goal is to minimize the function $F(a, b)$ using the gradient descent algorithm.\n",
    "\n",
    "You are asked to read and complete the Python code below to perform gradient descent (read carefully the code, the comments, and the *TODO* comments in red). The first function `dFa(a, b)` that you should complete corresponds to $\\frac{\\partial F(a, b)}{\\partial a}$, i.e., the derivative of the function $F(a, b)$ with respect to the first parameter $a$. The second function `dFb(a, b)` that you should complete corresponds to $\\frac{\\partial F(a, b)}{\\partial b}$, i.e., the derivative of the function $F(a, b)$ with respect to the second parameter $b$.\n",
    "\n",
    "If your implementation is correct and the value of $\\alpha$ is correctly chosen, then the value of both $a$ and $b$ should approach $0$ and the value of $F(a, b)$ should approach $5$. This is because the minimum of the function $F(a, b)$ is $5$ when $a = 0$ and $b = 0$.\n",
    "\n",
    "Once your code works well, you can re-run it with different values of the learning rate $\\alpha$, and different values of the initial parameters $a$ and $b$."
   ]
  },
  {
   "cell_type": "code",
   "execution_count": 6,
   "metadata": {
    "deletable": false
   },
   "outputs": [
    {
     "name": "stdout",
     "output_type": "stream",
     "text": [
      "12434.125\n",
      "6403.155412499999\n",
      "3304.3002167412506\n",
      "1710.1119214261944\n",
      "888.6506042860931\n",
      "464.4192522820139\n",
      "244.65810134886271\n",
      "130.33209733006802\n",
      "70.5038766966486\n",
      "38.93664721278745\n",
      "22.090411018877987\n",
      "12.95959302730527\n",
      "7.906907531582458\n",
      "5.034953107429182\n",
      "3.347564032425078\n",
      "2.31713966060814\n",
      "1.6609120403409818\n",
      "1.224905687522865\n",
      "0.9235121596760738\n",
      "0.707857641534245\n",
      "0.5491262029706494\n",
      "0.4296847351001709\n",
      "0.33830067804723196\n",
      "0.2675228472785518\n",
      "0.21221670305632134\n",
      "0.16872365487188024\n",
      "0.13436329128919144\n",
      "0.10712803045937136\n",
      "0.08548855025007107\n",
      "0.06826496748864219\n",
      "0.05453840612769767\n",
      "0.04358830557650162\n",
      "0.034846752488029153\n",
      "0.02786447342565257\n",
      "0.022285070210857683\n",
      "0.017825239955341132\n",
      "0.014259436680997162\n",
      "0.011407887203569445\n",
      "0.009127174652152625\n",
      "0.007302807977318082\n",
      "0.005843339746992804\n",
      "0.0046756982625044685\n",
      "0.003741476419777179\n",
      "0.0029939770036095936\n",
      "0.0023958576378815266\n",
      "0.0019172520838992568\n",
      "0.001534270535871407\n",
      "0.001227801830191666\n",
      "0.0009825563946330718\n",
      "0.0007863013035773747\n",
      "0.0006292487213928055\n",
      "0.0005035668767279233\n",
      "0.00040298895440571414\n",
      "0.00032250025867597287\n",
      "0.0002580879580458273\n",
      "0.00020654087618510175\n",
      "0.00016528931035608707\n",
      "0.00013227686800387772\n",
      "0.00010585791731898553\n",
      "8.471552999367304e-05\n"
     ]
    },
    {
     "data": {
      "image/png": "[encoded data removed]",
      "text/plain": [
       "<Figure size 432x288 with 1 Axes>"
      ]
     },
     "metadata": {
      "needs_background": "light"
     },
     "output_type": "display_data"
    }
   ],
   "source": [
    "# DO NOT modify the definition of the function F(a, b)\n",
    "def F(a, b):\n",
    "    return 5 + a**2 + 1.5 * b**2 + a * b\n",
    "\n",
    "\n",
    "\"\"\" TODO:\n",
    "Write here the definition of the function dFa(a, b), which is\n",
    "the derivative of F(a, b) with respect to the first parameter a\n",
    "\"\"\"\n",
    "def dFa(a, b):\n",
    "    return 2*a+b\n",
    "\n",
    "\n",
    "\"\"\" TODO:\n",
    "Write here the definition of the function dFb(a, b), which is\n",
    "the derivative of F(a, b) with respect to the second parameter b\n",
    "\"\"\"\n",
    "def dFb(a, b):\n",
    "    return 2*b+a\n",
    "\n",
    "\n",
    "alpha = 0.1            # The learning rate of gradient descent\n",
    "a, b = 80, 90          # The initial values of a and b (any initial values are ok)\n",
    "max_iterations = 100   # Maximum number of iterations\n",
    "epsilon = 0.0001       # Some small number to test for convergence (i.e. to stop if F(a) does not decrease too much)\n",
    "\n",
    "for itr in range(max_iterations):\n",
    "    lab2A2.plot(itr, F, a, b) # This plots an animation (DO NOT modify this line)\n",
    "    prev = F(a, b) # Save the value of F(a, b)\n",
    "    \n",
    "    \n",
    "    \"\"\" TODO:\n",
    "    Write here the gradient descent step to update the value of parameters `a` and `b` simultaneously.\n",
    "    Hint: You need to use `alpha`, `dFa(a, b)` and `dFb(a, b)`\n",
    "    \"\"\"\n",
    "    a = a - alpha*dFa(a,b) \n",
    "    b = b - alpha*dFb(a,b)\n",
    "    \n",
    "    \n",
    "    \"\"\" TODO:\n",
    "    Replace the boolean variable `CONDITION` below with a condition to break-out\n",
    "    of the loop if we are close to convergence. You need to use `prev` the previous value of\n",
    "    F(a, b), the current value of `F(a, b)`, and `epsilon`.\n",
    "    \"\"\"\n",
    "    CONDITION = prev - F(a,b) <= epsilon # Replace True with a boolean condition\n",
    "    print(prev-F(a,b))\n",
    "    if CONDITION:\n",
    "        break\n",
    "        "
   ]
  },
  {
   "cell_type": "markdown",
   "metadata": {
    "deletable": false,
    "editable": false
   },
   "source": [
    "# 3. Minimizing a function of multiple parameters with gradient descent\n",
    "\n",
    "This section is similar to the previous one, but you will minimize a function of multiple parameters (i.e., a vector of $p$ parameters: $\\theta \\in \\mathbb{R}^p$).\n",
    "\n",
    "First, you are asked to write the function $F(\\theta)$ in the following Python code. The function $F(\\theta)$ is defined as:\n",
    "$$F(\\theta) = \\sum_{j} \\theta_j^2$$\n",
    "\n",
    "The the gradient of the function $F(\\theta)$ is denoted as $\\nabla F(\\theta)$. This is a vector containing the derivative of $F(\\theta)$ with respect to each parameter $\\theta_j$:\n",
    "$$\\nabla F(\\theta) = \\left ( \\frac{\\partial F(\\theta)}{\\partial \\theta_0}, \\frac{\\partial F(\\theta)}{\\partial \\theta_1}, \\frac{\\partial F(\\theta)}{\\partial \\theta_2}, \\dots \\right )$$ \n",
    "\n",
    "Write the definition of the function `gradF(theta)` in the following Python code. This function corresponds to $\\nabla F(\\theta)$. It should return an array containing the derivative of $F(\\theta)$ with respect to each parameter $\\theta_j$.\n",
    "\n",
    "If your implementation is correct and the value of $\\alpha$ is correctly chosen, then you should end up getting all parameter values close to $0$ and the value of $F(\\theta)$ should approach $0$. This is because the minimum of the function $F(\\theta)$ is $0$ when $\\theta = \\vec{0} $ (the null vector).\n",
    "\n",
    "Once your code works well, you can re-run it with a different value of the learning rate $\\alpha$, and a different initial parameters vector $\\theta$."
   ]
  },
  {
   "cell_type": "code",
   "execution_count": 14,
   "metadata": {
    "deletable": false
   },
   "outputs": [
    {
     "name": "stdout",
     "output_type": "stream",
     "text": [
      "iteration = 0, theta = [ 80  90 -20], F(theta) = 14900\n",
      "iteration = 1, theta = [ 64.  72. -16.], F(theta) = 9536.0\n",
      "iteration = 2, theta = [ 51.2  57.6 -12.8], F(theta) = 6103.040000000001\n",
      "iteration = 3, theta = [ 40.96  46.08 -10.24], F(theta) = 3905.9455999999996\n",
      "iteration = 4, theta = [32.768 36.864 -8.192], F(theta) = 2499.805184\n",
      "iteration = 5, theta = [26.2144 29.4912 -6.5536], F(theta) = 1599.8753177600001\n",
      "iteration = 6, theta = [20.97152 23.59296 -5.24288], F(theta) = 1023.9202033664\n",
      "iteration = 7, theta = [16.777216 18.874368 -4.194304], F(theta) = 655.3089301544961\n",
      "iteration = 8, theta = [13.4217728 15.0994944 -3.3554432], F(theta) = 419.3977152988775\n",
      "iteration = 9, theta = [10.73741824 12.07959552 -2.68435456], F(theta) = 268.41453779128153\n",
      "iteration = 10, theta = [ 8.58993459  9.66367642 -2.14748365], F(theta) = 171.78530418642018\n",
      "iteration = 11, theta = [ 6.87194767  7.73094113 -1.71798692], F(theta) = 109.94259467930893\n",
      "iteration = 12, theta = [ 5.49755814  6.18475291 -1.37438953], F(theta) = 70.36326059475772\n",
      "iteration = 13, theta = [ 4.39804651  4.94780232 -1.09951163], F(theta) = 45.03248678064493\n",
      "iteration = 14, theta = [ 3.51843721  3.95824186 -0.8796093 ], F(theta) = 28.82079153961276\n",
      "iteration = 15, theta = [ 2.81474977  3.16659349 -0.70368744], F(theta) = 18.445306585352164\n",
      "iteration = 16, theta = [ 2.25179981  2.53327479 -0.56294995], F(theta) = 11.804996214625385\n",
      "iteration = 17, theta = [ 1.80143985  2.02661983 -0.45035996], F(theta) = 7.555197577360246\n",
      "iteration = 18, theta = [ 1.44115188  1.62129587 -0.36028797], F(theta) = 4.835326449510557\n",
      "iteration = 19, theta = [ 1.1529215   1.29703669 -0.28823038], F(theta) = 3.0946089276867568\n",
      "iteration = 20, theta = [ 0.9223372   1.03762935 -0.2305843 ], F(theta) = 1.9805497137195245\n",
      "iteration = 21, theta = [ 0.73786976  0.83010348 -0.18446744], F(theta) = 1.2675518167804956\n",
      "iteration = 22, theta = [ 0.59029581  0.66408279 -0.14757395], F(theta) = 0.8112331627395172\n",
      "iteration = 23, theta = [ 0.47223665  0.53126623 -0.11805916], F(theta) = 0.5191892241532909\n",
      "iteration = 24, theta = [ 0.37778932  0.42501298 -0.09444733], F(theta) = 0.33228110345810624\n",
      "iteration = 25, theta = [ 0.30223145  0.34001039 -0.07555786], F(theta) = 0.212659906213188\n",
      "iteration = 26, theta = [ 0.24178516  0.27200831 -0.06044629], F(theta) = 0.13610233997644036\n",
      "iteration = 27, theta = [ 0.19342813  0.21760665 -0.04835703], F(theta) = 0.08710549758492182\n",
      "iteration = 28, theta = [ 0.1547425   0.17408532 -0.03868563], F(theta) = 0.05574751845434996\n",
      "iteration = 29, theta = [ 0.123794    0.13926825 -0.0309485 ], F(theta) = 0.035678411810783975\n",
      "iteration = 30, theta = [ 0.0990352  0.1114146 -0.0247588], F(theta) = 0.022834183558901745\n",
      "iteration = 31, theta = [ 0.07922816  0.08913168 -0.01980704], F(theta) = 0.014613877477697119\n",
      "iteration = 32, theta = [ 0.06338253  0.07130535 -0.01584563], F(theta) = 0.009352881585726155\n",
      "iteration = 33, theta = [ 0.05070602  0.05704428 -0.01267651], F(theta) = 0.005985844214864739\n",
      "iteration = 34, theta = [ 0.04056482  0.04563542 -0.0101412 ], F(theta) = 0.0038309402975134337\n",
      "iteration = 35, theta = [ 0.03245186  0.03650834 -0.00811296], F(theta) = 0.0024518017904085975\n",
      "iteration = 36, theta = [ 0.02596148  0.02920667 -0.00649037], F(theta) = 0.0015691531458615026\n",
      "iteration = 37, theta = [ 0.02076919  0.02336534 -0.0051923 ], F(theta) = 0.0010042580133513617\n",
      "iteration = 38, theta = [ 0.01661535  0.01869227 -0.00415384], F(theta) = 0.0006427251285448715\n",
      "iteration = 39, theta = [ 0.01329228  0.01495381 -0.00332307], F(theta) = 0.00041134408226871773\n",
      "iteration = 40, theta = [ 0.01063382  0.01196305 -0.00265846], F(theta) = 0.00026326021265197933\n",
      "iteration = 41, theta = [ 0.00850706  0.00957044 -0.00212676], F(theta) = 0.00016848653609726673\n",
      "iteration = 42, theta = [ 0.00680565  0.00765635 -0.00170141], F(theta) = 0.00010783138310225072\n",
      "iteration = 43, theta = [ 0.00544452  0.00612508 -0.00136113], F(theta) = 6.901208518544046e-05\n",
      "iteration = 44, theta = [ 0.00435561  0.00490007 -0.0010889 ], F(theta) = 4.4167734518681886e-05\n",
      "iteration = 45, theta = [ 0.00348449  0.00392005 -0.00087112], F(theta) = 2.826735009195641e-05\n",
      "iteration = 46, theta = [ 0.00278759  0.00313604 -0.0006969 ], F(theta) = 1.8091104058852105e-05\n",
      "iteration = 47, theta = [ 0.00223007  0.00250883 -0.00055752], F(theta) = 1.1578306597665343e-05\n",
      "iteration = 48, theta = [ 0.00178406  0.00200707 -0.00044601], F(theta) = 7.410116222505819e-06\n",
      "iteration = 49, theta = [ 0.00142725  0.00160565 -0.00035681], F(theta) = 4.742474382403724e-06\n",
      "iteration = 50, theta = [ 0.0011418   0.00128452 -0.00028545], F(theta) = 3.035183604738384e-06\n",
      "iteration = 51, theta = [ 0.00091344  0.00102762 -0.00022836], F(theta) = 1.9425175070325656e-06\n",
      "My historia [4.00000000e+00 1.49000000e+04 9.53600000e+03 6.10304000e+03\n",
      " 3.90594560e+03 2.49980518e+03 1.59987532e+03 1.02392020e+03\n",
      " 6.55308930e+02 4.19397715e+02 2.68414538e+02 1.71785304e+02\n",
      " 1.09942595e+02 7.03632606e+01 4.50324868e+01 2.88207915e+01\n",
      " 1.84453066e+01 1.18049962e+01 7.55519758e+00 4.83532645e+00\n",
      " 3.09460893e+00 1.98054971e+00 1.26755182e+00 8.11233163e-01\n",
      " 5.19189224e-01 3.32281103e-01 2.12659906e-01 1.36102340e-01\n",
      " 8.71054976e-02 5.57475185e-02 3.56784118e-02 2.28341836e-02\n",
      " 1.46138775e-02 9.35288159e-03 5.98584421e-03 3.83094030e-03\n",
      " 2.45180179e-03 1.56915315e-03 1.00425801e-03 6.42725129e-04\n",
      " 4.11344082e-04 2.63260213e-04 1.68486536e-04 1.07831383e-04\n",
      " 6.90120852e-05 4.41677345e-05 2.82673501e-05 1.80911041e-05\n",
      " 1.15783066e-05 7.41011622e-06 4.74247438e-06 3.03518360e-06\n",
      " 1.94251751e-06]\n"
     ]
    },
    {
     "data": {
      "text/plain": [
       "Text(0, 0.5, 'F(theta)')"
      ]
     },
     "execution_count": 14,
     "metadata": {},
     "output_type": "execute_result"
    },
    {
     "data": {
      "image/png": "[encoded data removed]",
      "text/plain": [
       "<Figure size 432x288 with 1 Axes>"
      ]
     },
     "metadata": {
      "needs_background": "light"
     },
     "output_type": "display_data"
    }
   ],
   "source": [
    "import numpy as np, matplotlib.pylab as plt\n",
    "\n",
    "\"\"\" TODO:\n",
    "Write here the definition of the function `F(theta)`, where `theta` is an array of parameters.\n",
    "\"\"\"\n",
    "def F(theta):\n",
    "    return np.sum(np.square(theta))\n",
    "\n",
    "\n",
    "\"\"\" TODO:\n",
    "Write here the definition of the function `gradF(theta)`, the gradient of F(theta).\n",
    "This function should return an array where the j'th value is this array is the \n",
    "derivative of F(theta) with respect to the j'th parameter theta_j.\n",
    "\"\"\"\n",
    "def gradF(theta):\n",
    "    return 2*theta\n",
    "\n",
    "\n",
    "alpha = 0.1                      # The learning rate of gradient descent\n",
    "theta = np.array([80, 90, -20])  # Some initial parameters vector: theta = [theta_0, theta_1, theta_2, ...]\n",
    "max_iterations = 100             # Maximum number of iterations\n",
    "epsilon = 0.000001               # Some small number to test for convergence (i.e. to stop if F(a) does not decrease too much)\n",
    "\n",
    "history_of_F = np.empty(1)\n",
    "for itr in range(max_iterations):\n",
    "    prev = F(theta)\n",
    "    history_of_F = np.append(history_of_F,prev)\n",
    "    \n",
    "    print(\"iteration = {}, theta = {}, F(theta) = {}\".format(itr, theta, prev))\n",
    "    \"\"\" TODO:\n",
    "    Write here the gradient descent step to update the parameters vector `theta`.\n",
    "    All the parameter values in theta should be updated simultaneously.\n",
    "    Hint: You need to use `alpha` and `gradF(theta)`\n",
    "    \"\"\"\n",
    "    theta = theta - alpha*gradF(theta)\n",
    "    \n",
    "    \n",
    "    \"\"\" TODO:\n",
    "    Replace the boolean variable `CONDITION` below with a condition to break-out\n",
    "    of the loop if we are close to convergence. Hint: You need to use `prev` the \n",
    "    previous value of F(theta), the current value of `F(theta)`, and `epsilon`.\n",
    "    \"\"\"\n",
    "    CONDITION = prev - F(theta) <= epsilon # Replace True with a boolean condition\n",
    "    if CONDITION:\n",
    "        break\n",
    "\n",
    "\n",
    "\"\"\" TODO:\n",
    "Produce a plot here showing the value of F(theta) at each iteration.\n",
    "You might need to modify the above code to save all the historical values of F(theta)\n",
    "Note: you can use ax.plot(...) to do this plot\n",
    "\"\"\"\n",
    "print(\"My historia\",history_of_F)\n",
    "fig, ax = plt.subplots()\n",
    "\n",
    "ax.plot(history_of_F)\n",
    "# Plot here the number of iterations vs. the history of values of F(theta)\n",
    "ax.set_xlabel(\"Number of iterations\")\n",
    "ax.set_ylabel(\"F(theta)\")\n",
    "#fig.show() # Not needed"
   ]
  },
  {
   "cell_type": "code",
   "execution_count": null,
   "metadata": {},
   "outputs": [],
   "source": []
  }
 ],
 "metadata": {
  "celltoolbar": "Edit Metadata",
  "kernelspec": {
   "display_name": "Python 3",
   "language": "python",
   "name": "python3"
  },
  "language_info": {
   "codemirror_mode": {
    "name": "ipython",
    "version": 3
   },
   "file_extension": ".py",
   "mimetype": "text/x-python",
   "name": "python",
   "nbconvert_exporter": "python",
   "pygments_lexer": "ipython3",
   "version": "3.8.1"
  }
 },
 "nbformat": 4,
 "nbformat_minor": 4
}
